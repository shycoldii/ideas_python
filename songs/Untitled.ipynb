{
 "cells": [
  {
   "cell_type": "code",
   "execution_count": 12,
   "metadata": {},
   "outputs": [
    {
     "name": "stdout",
     "output_type": "stream",
     "text": [
      "Введите название трекаdarkness\n",
      "Введите название исполнителяeminem\n",
      "Сервер не ответил.\n",
      "https://genius.com/eminem-darkness-lyrics\n"
     ]
    }
   ],
   "source": [
    "# -*- coding: utf-8 -*-\n",
    "import requests\n",
    "from bs4 import BeautifulSoup\n",
    "import time\n",
    "def to_file(e):\n",
    "    r=open(f'{ask2}_{ask1}.txt','w+',encoding='utf-8')\n",
    "    c1,c2=len(result)-5,0\n",
    "    for i in result[2:len(result)-2]:\n",
    "                if c2==c1:\n",
    "                    r.write(i)\n",
    "\n",
    "                else:\n",
    "                    r.write(i+'\\n')\n",
    "                c2+=1\n",
    "    r.close()\n",
    "def search(ask1,ask2):\n",
    "    if len(ask1.split()) >1:\n",
    "        ask1=ask1.replace(' ','-')\n",
    "    if len(ask2.split()) >1:\n",
    "        ask2=ask2.replace(' ','-')\n",
    "    api=requests.get(f'https://genius.com/{ask2}-{ask1}-lyrics')\n",
    "    if api.status_code == 200:\n",
    "            result=BeautifulSoup(api.text,'html.parser')\n",
    "            while True:\n",
    "                try:\n",
    "                    result=result.find('div',class_='lyrics').text.split('\\n')\n",
    "                    break\n",
    "                except AttributeError:\n",
    "                    print('Сервер не ответил.')\n",
    "                    time.sleep(5)\n",
    "                    api=requests.get(f'https://genius.com/{ask2}-{ask1}-lyrics')\n",
    "                    result=BeautifulSoup(api.text,'html.parser')\n",
    "            print(f'https://genius.com/{ask2}-{ask1}-lyrics')\n",
    "            to_file(result,ask1,ask2)\n",
    "    else:\n",
    "            print(f'Статус код: {api.status_code}. Не выполнено.')\n",
    "if __name__=='__main__':\n",
    "    ask1=input('Введите название трека')\n",
    "    ask2=input('Введите название исполнителя')\n",
    "    search(ask1,ask2)"
   ]
  }
 ],
 "metadata": {
  "kernelspec": {
   "display_name": "Python 3",
   "language": "python",
   "name": "python3"
  },
  "language_info": {
   "codemirror_mode": {
    "name": "ipython",
    "version": 3
   },
   "file_extension": ".py",
   "mimetype": "text/x-python",
   "name": "python",
   "nbconvert_exporter": "python",
   "pygments_lexer": "ipython3",
   "version": "3.7.3"
  }
 },
 "nbformat": 4,
 "nbformat_minor": 2
}
